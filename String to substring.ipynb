{
 "cells": [
  {
   "cell_type": "code",
   "execution_count": null,
   "metadata": {},
   "outputs": [],
   "source": [
    "#string_length = input(\"Enter string's length: \")\n",
    "#print(string_length)"
   ]
  },
  {
   "cell_type": "code",
   "execution_count": null,
   "metadata": {},
   "outputs": [],
   "source": [
    "#cutoff_length = input(\"Enter cutoff length: \")\n",
    "#print(cutoff_length)"
   ]
  },
  {
   "cell_type": "markdown",
   "metadata": {},
   "source": [
    "### j=0 a = 'AUG GCC AUA'\n",
    "### j=1 a = 'UGG CCA '\n",
    "### j=2 a = 'GGC CAU '\n",
    "### j=3 a = 'GCC AUA'\n",
    "### j=4 a = 'CCA'\n",
    "### j=5 a = 'CAU'\n",
    "### j=6 a = 'AUA'\n"
   ]
  },
  {
   "cell_type": "code",
   "execution_count": 1,
   "metadata": {},
   "outputs": [],
   "source": [
    "a = 'AUGGCCAUA'"
   ]
  },
  {
   "cell_type": "code",
   "execution_count": 2,
   "metadata": {},
   "outputs": [
    {
     "name": "stdout",
     "output_type": "stream",
     "text": [
      "['AUG', 'GCC', 'AUA']\n",
      "['UGG', 'CCA']\n",
      "['GGC', 'CAU']\n",
      "['GCC', 'AUA']\n",
      "['CCA']\n",
      "['CAU']\n",
      "['AUA']\n"
     ]
    }
   ],
   "source": [
    "for j in range(0, len(a) - 2):\n",
    "    print([a[i:i+3] for i in range(j, len(a) - 2, 3)])\n",
    "    j=j+1"
   ]
  },
  {
   "cell_type": "code",
   "execution_count": 3,
   "metadata": {},
   "outputs": [],
   "source": [
    "a = 'ABCDEFGHIJKLMNOPQRSTUVWXYZ'"
   ]
  },
  {
   "cell_type": "code",
   "execution_count": 5,
   "metadata": {},
   "outputs": [
    {
     "name": "stdout",
     "output_type": "stream",
     "text": [
      "['ABCDE', 'FGHIJ', 'KLMNO', 'PQRST', 'UVWXY']\n",
      "['BCDEF', 'GHIJK', 'LMNOP', 'QRSTU', 'VWXYZ']\n",
      "['CDEFG', 'HIJKL', 'MNOPQ', 'RSTUV']\n",
      "['DEFGH', 'IJKLM', 'NOPQR', 'STUVW']\n",
      "['EFGHI', 'JKLMN', 'OPQRS', 'TUVWX']\n",
      "['FGHIJ', 'KLMNO', 'PQRST', 'UVWXY']\n",
      "['GHIJK', 'LMNOP', 'QRSTU', 'VWXYZ']\n",
      "['HIJKL', 'MNOPQ', 'RSTUV']\n",
      "['IJKLM', 'NOPQR', 'STUVW']\n",
      "['JKLMN', 'OPQRS', 'TUVWX']\n",
      "['KLMNO', 'PQRST', 'UVWXY']\n",
      "['LMNOP', 'QRSTU', 'VWXYZ']\n",
      "['MNOPQ', 'RSTUV']\n",
      "['NOPQR', 'STUVW']\n",
      "['OPQRS', 'TUVWX']\n",
      "['PQRST', 'UVWXY']\n",
      "['QRSTU', 'VWXYZ']\n",
      "['RSTUV']\n",
      "['STUVW']\n",
      "['TUVWX']\n",
      "['UVWXY']\n",
      "['VWXYZ']\n"
     ]
    }
   ],
   "source": [
    "for j in range(0, len(a) - 4):\n",
    "    print([a[i:i+5] for i in range(j, len(a) - 4, 5)])\n",
    "    j=j+1"
   ]
  }
 ],
 "metadata": {
  "kernelspec": {
   "display_name": "Python 3",
   "language": "python",
   "name": "python3"
  },
  "language_info": {
   "codemirror_mode": {
    "name": "ipython",
    "version": 3
   },
   "file_extension": ".py",
   "mimetype": "text/x-python",
   "name": "python",
   "nbconvert_exporter": "python",
   "pygments_lexer": "ipython3",
   "version": "3.7.3"
  }
 },
 "nbformat": 4,
 "nbformat_minor": 2
}
